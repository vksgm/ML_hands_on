{
  "nbformat": 4,
  "nbformat_minor": 0,
  "metadata": {
    "colab": {
      "provenance": [],
      "authorship_tag": "ABX9TyMzqZh4s8rYJRjDt4dIT6q+",
      "include_colab_link": true
    },
    "kernelspec": {
      "name": "python3",
      "display_name": "Python 3"
    },
    "language_info": {
      "name": "python"
    }
  },
  "cells": [
    {
      "cell_type": "markdown",
      "metadata": {
        "id": "view-in-github",
        "colab_type": "text"
      },
      "source": [
        "<a href=\"https://colab.research.google.com/github/vksgm/ML_hands_on/blob/main/Numpy.ipynb\" target=\"_parent\"><img src=\"https://colab.research.google.com/assets/colab-badge.svg\" alt=\"Open In Colab\"/></a>"
      ]
    },
    {
      "cell_type": "code",
      "execution_count": null,
      "metadata": {
        "colab": {
          "base_uri": "https://localhost:8080/"
        },
        "id": "AIuQKeo-kPSE",
        "outputId": "e5f1adac-b4dc-4891-943d-484e35e37ca3"
      },
      "outputs": [
        {
          "output_type": "stream",
          "name": "stdout",
          "text": [
            "2.0.2\n"
          ]
        }
      ],
      "source": [
        "import numpy as np\n",
        "import math\n",
        "print(np.__version__)"
      ]
    },
    {
      "cell_type": "markdown",
      "source": [
        "\n",
        "\n",
        "> **Attribues of array**\n",
        "\n"
      ],
      "metadata": {
        "id": "MBYq5_ini449"
      }
    },
    {
      "cell_type": "markdown",
      "source": [
        "THUMB RULE\n",
        "\n",
        "---\n",
        "In NUMPY() for a 2D matrix, Rows means vertical axis(axis=0) and moving downwards ( across columns )\n",
        "Columns means horizontal axis.(axis=1) and moving left to right ( across rows )\n",
        "\n",
        "In NumPy arrays with more than two dimensions, the last two values in the shape tuple generally represent the rows and columns, respectively.\n",
        "\n",
        "Eg. for Image the shape of the Tensor will be like\n",
        "Image_Shape = ( Height, Width, Channels )\n",
        "\n",
        "here channels is RGB colors.\n"
      ],
      "metadata": {
        "id": "dvPBRYGBAWN-"
      }
    },
    {
      "cell_type": "code",
      "source": [
        "#Attributes of ndarray\n",
        "a = np.array([[1, 2, 3, 4], [5, 6, 7, 8], [9, 10, 11, 12]],dtype=np.int32)\n",
        "#Returns shape tuple\n",
        "print(a.shape)\n",
        "#returns as length of the shape will be equal to the dimension( axis ) of array\n",
        "print('The shape is',len(a.shape))\n",
        "#dimension\n",
        "print('The dimension is', a.ndim)\n",
        "#size--> total elements in array\n",
        "print('The size is', a.size)\n",
        "#dtype of array: note this will be homogenous array always\n",
        "print(a.dtype)\n",
        "#The total item size of the array( size of each element in array)\n",
        "print(a.itemsize)\n",
        "#type of the variable\n",
        "print(type(a))\n",
        "#complex type array\n",
        "ai = np.array([[1,-2],[3,4]],dtype=complex)\n",
        "print(ai)"
      ],
      "metadata": {
        "colab": {
          "base_uri": "https://localhost:8080/"
        },
        "id": "BzuQ7GgwvF8B",
        "outputId": "e99437ab-9469-47e3-e916-cd9e0ef25216"
      },
      "execution_count": null,
      "outputs": [
        {
          "output_type": "stream",
          "name": "stdout",
          "text": [
            "(3, 4)\n",
            "The shape is 2\n",
            "The dimension is 2\n",
            "The size is 12\n",
            "int32\n",
            "4\n",
            "<class 'numpy.ndarray'>\n",
            "[[ 1.+0.j -2.+0.j]\n",
            " [ 3.+0.j  4.+0.j]]\n"
          ]
        }
      ]
    },
    {
      "cell_type": "markdown",
      "source": [
        "**Array Creation**"
      ],
      "metadata": {
        "id": "CBBtQae8jJ-Z"
      }
    },
    {
      "cell_type": "code",
      "source": [
        "#zero array\n",
        "# NOTE: !!  By default, the dtype of the created array is float64 but we can explicility specify the dtype while creation\n",
        "b = np.zeros(2)\n",
        "print(b)\n",
        "print(b.shape)\n",
        "print(b.size)\n",
        "print(b.ndim)\n",
        "print(b.strides) #defines the total byte size to navigate to numpy array"
      ],
      "metadata": {
        "colab": {
          "base_uri": "https://localhost:8080/"
        },
        "id": "JxMNnYGAjN7W",
        "outputId": "c5320391-9a6d-41c8-bc89-cf6a75f22d6f"
      },
      "execution_count": null,
      "outputs": [
        {
          "output_type": "stream",
          "name": "stdout",
          "text": [
            "[0. 0.]\n",
            "(2,)\n",
            "2\n",
            "1\n",
            "(8,)\n"
          ]
        }
      ]
    },
    {
      "cell_type": "code",
      "source": [
        "#Empty Array with 2 elements\n",
        "#The reason to use empty over zeros (or something similar) is speed - just make sure to fill every element afterwards!\n",
        "#the empty array content will be random\n",
        "c = np.empty(2,dtype=np.int64)\n",
        "print(c)\n",
        "print(c.shape)\n",
        "print(c.size)\n",
        "print(c.ndim)\n",
        "\n",
        "c = np.arange(24).reshape(2, 3, 4)  # 3d array\n",
        "print(c)\n"
      ],
      "metadata": {
        "colab": {
          "base_uri": "https://localhost:8080/"
        },
        "id": "RYCkJBeTkzKM",
        "outputId": "96ae7e3b-4d45-49f3-9a49-ae18c953e131"
      },
      "execution_count": null,
      "outputs": [
        {
          "output_type": "stream",
          "name": "stdout",
          "text": [
            "[              1 140735183323136]\n",
            "(2,)\n",
            "2\n",
            "1\n",
            "[[[ 0  1  2  3]\n",
            "  [ 4  5  6  7]\n",
            "  [ 8  9 10 11]]\n",
            "\n",
            " [[12 13 14 15]\n",
            "  [16 17 18 19]\n",
            "  [20 21 22 23]]]\n"
          ]
        }
      ]
    },
    {
      "cell_type": "code",
      "source": [
        "#Array with range of elements with specifying float datatype\n",
        "d = np.arange(4, dtype=np.float64)\n",
        "print(d)\n",
        "print(d.shape)\n",
        "print(d.size)\n",
        "print(d.ndim)"
      ],
      "metadata": {
        "colab": {
          "base_uri": "https://localhost:8080/"
        },
        "id": "3gyFd81VlzD1",
        "outputId": "2a7d30c5-f402-4b1a-e877-1077a5480838"
      },
      "execution_count": null,
      "outputs": [
        {
          "output_type": "stream",
          "name": "stdout",
          "text": [
            "[0. 1. 2. 3.]\n",
            "(4,)\n",
            "4\n",
            "1\n"
          ]
        }
      ]
    },
    {
      "cell_type": "code",
      "source": [
        "#1s array\n",
        "b = np.ones(3)\n",
        "print(b)\n",
        "print(b.shape)\n",
        "print(b.size)\n",
        "print(b.ndim)"
      ],
      "metadata": {
        "colab": {
          "base_uri": "https://localhost:8080/"
        },
        "outputId": "a6cf45ac-49ec-4cb8-b068-9312639f43a9",
        "id": "HvjvHDEMkzdc"
      },
      "execution_count": null,
      "outputs": [
        {
          "output_type": "stream",
          "name": "stdout",
          "text": [
            "[1. 1. 1.]\n",
            "(3,)\n",
            "3\n",
            "1\n"
          ]
        }
      ]
    },
    {
      "cell_type": "code",
      "source": [
        "#Step size ( initialval, finalval, step size)\n",
        "#Note: We cannot create a ND array directly using the arange() operator.\n",
        "# We need to use reshape.\n",
        "e = np.arange(2, 9, 2)\n",
        "print(e)\n",
        "e1 = np.linspace(2,10, num=5,dtype=int)\n",
        "print(e1)\n",
        "sin=np.linspace(0, 2 * 3.14, 100) #multiple small points\n",
        "print(sin)"
      ],
      "metadata": {
        "colab": {
          "base_uri": "https://localhost:8080/"
        },
        "id": "BRiejhO5mVuA",
        "outputId": "3394721b-b90c-4945-9a69-38a256d8b350"
      },
      "execution_count": null,
      "outputs": [
        {
          "output_type": "stream",
          "name": "stdout",
          "text": [
            "[2 4 6 8]\n",
            "[ 2  4  6  8 10]\n",
            "[0.         0.06343434 0.12686869 0.19030303 0.25373737 0.31717172\n",
            " 0.38060606 0.4440404  0.50747475 0.57090909 0.63434343 0.69777778\n",
            " 0.76121212 0.82464646 0.88808081 0.95151515 1.01494949 1.07838384\n",
            " 1.14181818 1.20525253 1.26868687 1.33212121 1.39555556 1.4589899\n",
            " 1.52242424 1.58585859 1.64929293 1.71272727 1.77616162 1.83959596\n",
            " 1.9030303  1.96646465 2.02989899 2.09333333 2.15676768 2.22020202\n",
            " 2.28363636 2.34707071 2.41050505 2.47393939 2.53737374 2.60080808\n",
            " 2.66424242 2.72767677 2.79111111 2.85454545 2.9179798  2.98141414\n",
            " 3.04484848 3.10828283 3.17171717 3.23515152 3.29858586 3.3620202\n",
            " 3.42545455 3.48888889 3.55232323 3.61575758 3.67919192 3.74262626\n",
            " 3.80606061 3.86949495 3.93292929 3.99636364 4.05979798 4.12323232\n",
            " 4.18666667 4.25010101 4.31353535 4.3769697  4.44040404 4.50383838\n",
            " 4.56727273 4.63070707 4.69414141 4.75757576 4.8210101  4.88444444\n",
            " 4.94787879 5.01131313 5.07474747 5.13818182 5.20161616 5.26505051\n",
            " 5.32848485 5.39191919 5.45535354 5.51878788 5.58222222 5.64565657\n",
            " 5.70909091 5.77252525 5.8359596  5.89939394 5.96282828 6.02626263\n",
            " 6.08969697 6.15313131 6.21656566 6.28      ]\n"
          ]
        }
      ]
    },
    {
      "cell_type": "markdown",
      "source": [
        "Calling via Function"
      ],
      "metadata": {
        "id": "EDyvhXXepzI0"
      }
    },
    {
      "cell_type": "code",
      "source": [
        "def f(x, y):          # Defining the function\n",
        "    return 10 * x + y\n",
        "b = np.fromfunction(f, (5, 4), dtype=int) # calling the function\n",
        "b\n",
        "b[2, 3]\n",
        "b[0:5, 1]  # each row in the second column of b\n",
        "b[:, 1]    # equivalent to the previous example\n",
        "b[1:3, :]  # each column in the second and third row of b"
      ],
      "metadata": {
        "colab": {
          "base_uri": "https://localhost:8080/"
        },
        "id": "kpufFPlip1I6",
        "outputId": "8c636b76-c545-4b18-eba6-152695c3a7fe"
      },
      "execution_count": null,
      "outputs": [
        {
          "output_type": "execute_result",
          "data": {
            "text/plain": [
              "array([[10, 11, 12, 13],\n",
              "       [20, 21, 22, 23]])"
            ]
          },
          "metadata": {},
          "execution_count": 7
        }
      ]
    },
    {
      "cell_type": "markdown",
      "source": [
        "**Array Manupulation**"
      ],
      "metadata": {
        "id": "ytr8Pyran5g6"
      }
    },
    {
      "cell_type": "code",
      "source": [
        "#Sorting of array\n",
        "#numpy.sort(a, axis=-1, kind=#sorting algo, order=None, *, stable=None)\n",
        "#Sorting returns the copy of the array\n",
        "arr = np.array([2, 1, 5, 3, 7, 4, 6, 8])\n",
        "np.sort(arr) # Ascending order\n",
        "\n",
        "\n",
        "#Concatenate---NEED MORE DETAILS--!!\n"
      ],
      "metadata": {
        "id": "mgWIs0f2n_7z"
      },
      "execution_count": null,
      "outputs": []
    },
    {
      "cell_type": "code",
      "source": [
        "#Array Reshaping\n",
        "import numpy as np\n",
        "a = np.arange(6)\n",
        "print('original Array', a)\n",
        "print('Original Dimension', a.ndim)\n",
        "print('Original Shape', a.shape)\n",
        "b=a.reshape(3,2)\n",
        "print('Reshaped',b)\n",
        "print('Reshaped Dimension',b.ndim)\n",
        "#diff bt C order and F order ???\n",
        "print('Re-shaping with C' )\n",
        "print(np.reshape(a, (2,3), order='C'))\n",
        "print('Re-shaping with A(Fortan)' )\n",
        "c= np.reshape(a, (2,3), order='A')\n",
        "d=np.zeros_like(c) #create a similar array of C dimension\n",
        "print(d)\n",
        "print('Reshaped Dimension',c.ndim)\n",
        "# i couldnt get how the dimension is calculated here!!:)"
      ],
      "metadata": {
        "colab": {
          "base_uri": "https://localhost:8080/"
        },
        "id": "Ug_U07nDxZJh",
        "outputId": "6e7773ce-7384-4965-f37c-28aadd93539f"
      },
      "execution_count": null,
      "outputs": [
        {
          "output_type": "stream",
          "name": "stdout",
          "text": [
            "original Array [0 1 2 3 4 5]\n",
            "Original Dimension 1\n",
            "Original Shape (6,)\n",
            "Reshaped [[0 1]\n",
            " [2 3]\n",
            " [4 5]]\n",
            "Reshaped Dimension 2\n",
            "Re-shaping with C\n",
            "[[0 1 2]\n",
            " [3 4 5]]\n",
            "Re-shaping with A(Fortan)\n",
            "[[0 0 0]\n",
            " [0 0 0]]\n",
            "Reshaped Dimension 2\n"
          ]
        }
      ]
    },
    {
      "cell_type": "markdown",
      "source": [
        "**Conversion of dimensions of array**"
      ],
      "metadata": {
        "id": "FMMb7jWt0UbB"
      }
    },
    {
      "cell_type": "code",
      "source": [
        "#np.newaxis to create a new axis/Dimension\n",
        "a=np.arange(6)\n",
        "print(a.shape)\n",
        "#convert a 1D to row vector ( row vector also 2D?)\n",
        "print('1D vector Details')\n",
        "row_vector = a[np.newaxis, :]\n",
        "print(row_vector.shape)\n",
        "print(row_vector)\n",
        "print(row_vector.ndim)\n",
        "print('2D vector Details')\n",
        "row_vector2=row_vector[np.newaxis,:]#again adding 1 more dimension\n",
        "print(row_vector2.shape) #3 dimension here\n",
        "\n",
        "print(row_vector2)\n",
        "print(row_vector2.ndim)\n",
        "\n",
        "#np.expand_dims to add an axis at a specified(0) index\n",
        "expand=np.expand_dims(row_vector2,axis=0)\n",
        "print('the expanded array',expand)\n",
        "print('the expanded dimension at 0th index is', expand.ndim)\n",
        "\n",
        "#np.expand_dims to add an axis at a specified (1) index\n",
        "expand=np.expand_dims(row_vector2,axis=1)\n",
        "print('the expanded array',expand)\n",
        "print('the expanded dimension at 1th index is', expand.ndim)\n"
      ],
      "metadata": {
        "colab": {
          "base_uri": "https://localhost:8080/"
        },
        "id": "_3wlYsFqgp_D",
        "outputId": "bad80ea0-455a-47f7-ce9b-4ef3a927494a"
      },
      "execution_count": null,
      "outputs": [
        {
          "output_type": "stream",
          "name": "stdout",
          "text": [
            "(6,)\n",
            "1D vector Details\n",
            "(1, 6)\n",
            "[[0 1 2 3 4 5]]\n",
            "2\n",
            "2D vector Details\n",
            "(1, 1, 6)\n",
            "[[[0 1 2 3 4 5]]]\n",
            "3\n",
            "the expanded array [[[[0 1 2 3 4 5]]]]\n",
            "the expanded dimension at 0th index is 4\n",
            "the expanded array [[[[0 1 2 3 4 5]]]]\n",
            "the expanded dimension at 1th index is 4\n"
          ]
        }
      ]
    },
    {
      "cell_type": "markdown",
      "source": [
        "Upload real image"
      ],
      "metadata": {
        "id": "4oFEmhfiLpMT"
      }
    },
    {
      "cell_type": "code",
      "source": [
        "from PIL import Image\n",
        "import numpy as np\n",
        "\n",
        "# Load your image (replace 'your_image.jpg' with the path to your image)\n",
        "img = Image.open( r'/content/Image.jpg')\n",
        "\n",
        "# Convert the image to RGB (if it's not already)\n",
        "img = img.convert('RGB')\n",
        "\n",
        "# Convert the image to a NumPy array\n",
        "arr = np.array(img)\n",
        "\n",
        "# Check the shape of the array\n",
        "print(arr.shape)  # This will show (Height, Width, 3) for an RGB image\n",
        "\n",
        "#save the file to view in real\n",
        "# We cannot save the 3D. so we need to convert it to 2D image\n",
        "#\n",
        "np.savetxt('Image_file_640*640.csv', arr) #save the format\n"
      ],
      "metadata": {
        "colab": {
          "base_uri": "https://localhost:8080/",
          "height": 315
        },
        "id": "U_Xyfw5XLqk1",
        "outputId": "5143b570-094c-4907-aac6-de2c7154f058"
      },
      "execution_count": null,
      "outputs": [
        {
          "output_type": "stream",
          "name": "stdout",
          "text": [
            "(640, 640, 3)\n"
          ]
        },
        {
          "output_type": "error",
          "ename": "ValueError",
          "evalue": "Expected 1D or 2D array, got 3D array instead",
          "traceback": [
            "\u001b[0;31m---------------------------------------------------------------------------\u001b[0m",
            "\u001b[0;31mValueError\u001b[0m                                Traceback (most recent call last)",
            "\u001b[0;32m<ipython-input-6-ea6910ad1578>\u001b[0m in \u001b[0;36m<cell line: 0>\u001b[0;34m()\u001b[0m\n\u001b[1;32m     15\u001b[0m \u001b[0;34m\u001b[0m\u001b[0m\n\u001b[1;32m     16\u001b[0m \u001b[0;31m#save the file to view in real time\u001b[0m\u001b[0;34m\u001b[0m\u001b[0;34m\u001b[0m\u001b[0m\n\u001b[0;32m---> 17\u001b[0;31m \u001b[0mnp\u001b[0m\u001b[0;34m.\u001b[0m\u001b[0msavetxt\u001b[0m\u001b[0;34m(\u001b[0m\u001b[0;34m'Image_file_640*640.csv'\u001b[0m\u001b[0;34m,\u001b[0m \u001b[0marr\u001b[0m\u001b[0;34m)\u001b[0m \u001b[0;31m#save the format\u001b[0m\u001b[0;34m\u001b[0m\u001b[0;34m\u001b[0m\u001b[0m\n\u001b[0m",
            "\u001b[0;32m/usr/local/lib/python3.11/dist-packages/numpy/lib/_npyio_impl.py\u001b[0m in \u001b[0;36msavetxt\u001b[0;34m(fname, X, fmt, delimiter, newline, header, footer, comments, encoding)\u001b[0m\n\u001b[1;32m   1571\u001b[0m         \u001b[0;31m# Handle 1-dimensional arrays\u001b[0m\u001b[0;34m\u001b[0m\u001b[0;34m\u001b[0m\u001b[0m\n\u001b[1;32m   1572\u001b[0m         \u001b[0;32mif\u001b[0m \u001b[0mX\u001b[0m\u001b[0;34m.\u001b[0m\u001b[0mndim\u001b[0m \u001b[0;34m==\u001b[0m \u001b[0;36m0\u001b[0m \u001b[0;32mor\u001b[0m \u001b[0mX\u001b[0m\u001b[0;34m.\u001b[0m\u001b[0mndim\u001b[0m \u001b[0;34m>\u001b[0m \u001b[0;36m2\u001b[0m\u001b[0;34m:\u001b[0m\u001b[0;34m\u001b[0m\u001b[0;34m\u001b[0m\u001b[0m\n\u001b[0;32m-> 1573\u001b[0;31m             raise ValueError(\n\u001b[0m\u001b[1;32m   1574\u001b[0m                 \"Expected 1D or 2D array, got %dD array instead\" % X.ndim)\n\u001b[1;32m   1575\u001b[0m         \u001b[0;32melif\u001b[0m \u001b[0mX\u001b[0m\u001b[0;34m.\u001b[0m\u001b[0mndim\u001b[0m \u001b[0;34m==\u001b[0m \u001b[0;36m1\u001b[0m\u001b[0;34m:\u001b[0m\u001b[0;34m\u001b[0m\u001b[0;34m\u001b[0m\u001b[0m\n",
            "\u001b[0;31mValueError\u001b[0m: Expected 1D or 2D array, got 3D array instead"
          ]
        }
      ]
    },
    {
      "cell_type": "markdown",
      "source": [
        "**Indexing and Slicing**"
      ],
      "metadata": {
        "id": "Ah4mvaE_uy2X"
      }
    },
    {
      "cell_type": "code",
      "source": [
        "#indexing\n",
        "a=np.arange(6)\n",
        "print(a)\n",
        "print(a[1])\n",
        "print(a[0:2])\n",
        "#printing from 1 to end of the array\n",
        "print(a[1:])\n",
        "# In Python (and NumPy), negative indexing starts from the end of the array\n",
        "print(a[-1])\n",
        "#printing from starting to 2nd index ( 3 wont be considered )\n",
        "print('Print start to end index', a[:3])\n",
        "#print with conditions\n",
        "print(a[a<4])\n",
        "cond = a[(a>1) & (a<4)]\n",
        "print('mulitple conditions:',a[cond])\n",
        "\n",
        "#return boolean values when returning only the conditions\n",
        "cond=(a>1) & (a<4)\n",
        "print('Returning boolean values',cond)\n",
        "\n",
        "# checking the value in array\n",
        "not_there = np.nonzero(a == 3)\n",
        "print('Checking the value',not_there)\n",
        "\n",
        "#Nonzero property\n",
        "a=np.array([[1, 2, 3, 4], [5, 6, 7, 8], [9, 10, 11, 12]])\n",
        "b=np.nonzero(a<5)\n",
        "#it returns the values where the a<5 in tuple for each dimension.\n",
        "#we need to plot the co.ordinates to get the positions\n",
        "print(b)\n",
        "#plot the co.ordinates( first zip it !!)\n",
        "list_of_coordinates=list(zip(b[0], b[1]))\n",
        "for coord in list_of_coordinates:\n",
        "  print('the co.ordinates are',coord)\n",
        "\n",
        "\n",
        "a= np.arange(10)**3 # printing the cube for 10 values\n",
        "# equivalent to a[0:6:2] = 1000;\n",
        "# from start to position 6, exclusive, set every 2nd element to 1000\n",
        "a[:6:2] = 1000\n",
        "print(a)\n",
        "print(a[-1]) #print the last element\n"
      ],
      "metadata": {
        "colab": {
          "base_uri": "https://localhost:8080/"
        },
        "id": "LM7sZeo8u1Si",
        "outputId": "8ae9ce58-020b-4ad2-b16b-10b7be62fb46"
      },
      "execution_count": null,
      "outputs": [
        {
          "output_type": "stream",
          "name": "stdout",
          "text": [
            "[0 1 2 3 4 5]\n",
            "1\n",
            "[0 1]\n",
            "[1 2 3 4 5]\n",
            "5\n",
            "Print start to end index [0 1 2]\n",
            "[0 1 2 3]\n",
            "mulitple conditions: [2 3]\n",
            "Returning boolean values [False False  True  True False False]\n",
            "Checking the value (array([3]),)\n",
            "(array([0, 0, 0, 0]), array([0, 1, 2, 3]))\n",
            "the co.ordinates are (np.int64(0), np.int64(0))\n",
            "the co.ordinates are (np.int64(0), np.int64(1))\n",
            "the co.ordinates are (np.int64(0), np.int64(2))\n",
            "the co.ordinates are (np.int64(0), np.int64(3))\n",
            "[1000    1 1000   27 1000  125  216  343  512  729]\n",
            "729\n"
          ]
        }
      ]
    },
    {
      "cell_type": "markdown",
      "source": [
        "**Creat Array from Existing Array**"
      ],
      "metadata": {
        "id": "KvFAFKq6BjJf"
      }
    },
    {
      "cell_type": "code",
      "source": [
        "#stacking of array\n",
        "#stacking the arrays\n",
        "x = np.arange(1,5,1)\n",
        "x_stacked = np.stack([x, x, x, x], dim=0)\n",
        "print('stack at dimension 0',x_stacked)\n",
        "y_stacked = np.stack([x, x, x], dim=1)\n",
        "print('stack at dimension 1',y_stacked)\n",
        "#vertical stacking\n",
        "a1 = np.array([[1,1],[2,2]])\n",
        "a2 = np.array([[3,3],[4,4]])\n",
        "print('Vertical Stacking')\n",
        "print(np.vstack((a1,a2)))\n",
        "#Horizontal Stacking\n",
        "print('Horizontal Stacking')\n",
        "print(np.hstack((a1,a2)))\n",
        "\n",
        "#Splitting of array\n",
        "s1=np.arange(1,25).reshape(2,12)\n",
        "print('Splitting of array of equal size')\n",
        "print(s1)\n",
        "#splitting into 3 equal arrays (Note: only it can split to equal arrays,else error)\n",
        "print(np.hsplit(s1,4))\n",
        "\n",
        "#splitting at specific column(s) here at 3rd and 4th\n",
        "print('Splitting at 3rd and 4th columns',np.hsplit(s1,(3,4)))\n",
        "\n"
      ],
      "metadata": {
        "colab": {
          "base_uri": "https://localhost:8080/"
        },
        "id": "adRVOp0UBnOZ",
        "outputId": "b9def16a-9b7c-4419-c1ab-1bea37b3e265"
      },
      "execution_count": null,
      "outputs": [
        {
          "output_type": "stream",
          "name": "stdout",
          "text": [
            "Vertical Stacking\n",
            "[[1 1]\n",
            " [2 2]\n",
            " [3 3]\n",
            " [4 4]]\n",
            "Horizontal Stacking\n",
            "[[1 1 3 3]\n",
            " [2 2 4 4]]\n",
            "Splitting of array of equal size\n",
            "[[ 1  2  3  4  5  6  7  8  9 10 11 12]\n",
            " [13 14 15 16 17 18 19 20 21 22 23 24]]\n",
            "[array([[ 1,  2,  3],\n",
            "       [13, 14, 15]]), array([[ 4,  5,  6],\n",
            "       [16, 17, 18]]), array([[ 7,  8,  9],\n",
            "       [19, 20, 21]]), array([[10, 11, 12],\n",
            "       [22, 23, 24]])]\n",
            "Splitting at 3rd and 4th columns [array([[ 1,  2,  3],\n",
            "       [13, 14, 15]]), array([[ 4],\n",
            "       [16]]), array([[ 5,  6,  7,  8,  9, 10, 11, 12],\n",
            "       [17, 18, 19, 20, 21, 22, 23, 24]])]\n"
          ]
        }
      ]
    },
    {
      "cell_type": "markdown",
      "source": [
        "**Squeezing of Arrays**"
      ],
      "metadata": {
        "id": "Nk1eO1M5rZO0"
      }
    },
    {
      "cell_type": "markdown",
      "source": [],
      "metadata": {
        "id": "wjbyDXOQrkwF"
      }
    },
    {
      "cell_type": "code",
      "source": [],
      "metadata": {
        "id": "-k6edTiercFn"
      },
      "execution_count": null,
      "outputs": []
    },
    {
      "cell_type": "markdown",
      "source": [
        "**Copying of Arrays**"
      ],
      "metadata": {
        "id": "M0cj81e9ev2N"
      }
    },
    {
      "cell_type": "code",
      "source": [
        "#Views in Array\n",
        "#Note views modifies the original record also( whenever slicing or any operation is done, it used view inside)\n",
        "a = np.array([[1, 2, 3, 4], [5, 6, 7, 8], [9, 10, 11, 12]])\n",
        "#stored in b1 view\n",
        "b1 = a[0, :]\n",
        "print(b1)\n",
        "#modifiying the record in view\n",
        "b1[0] = 99\n",
        "b1\n",
        "#it modifies the original array 'a'\n",
        "print(a[0])\n",
        "print('-------------------')\n",
        "#Copy function\n",
        "b2=b1.copy()\n",
        "print(b2)\n",
        "#copy doesnt affect the original (b1)\n",
        "b2[0]=100\n",
        "print('Copied',b2)\n",
        "print('Original',b1)"
      ],
      "metadata": {
        "colab": {
          "base_uri": "https://localhost:8080/"
        },
        "id": "AZkw9-Uof1Jo",
        "outputId": "f37e3340-187f-4c55-e28b-813087886b85"
      },
      "execution_count": null,
      "outputs": [
        {
          "output_type": "stream",
          "name": "stdout",
          "text": [
            "[1 2 3 4]\n",
            "[99  2  3  4]\n",
            "-------------------\n",
            "[99  2  3  4]\n",
            "Copied [100   2   3   4]\n",
            "Original [99  2  3  4]\n"
          ]
        }
      ]
    },
    {
      "cell_type": "markdown",
      "source": [
        "**Basic Array Operations**\n",
        "It occurs elementwise~"
      ],
      "metadata": {
        "id": "mG5pFqJthskh"
      }
    },
    {
      "cell_type": "code",
      "source": [
        "#Addition\n",
        "import numpy as np\n",
        "a1=np.ones(2,dtype=int)\n",
        "a2=np.array([1,2])\n",
        "print(a1+a2)\n",
        "#Subtraction\n",
        "print(a1-a2)\n",
        "#Multiplication\n",
        "print(a1*a2)\n",
        "#Division\n",
        "print(a1/a2)\n",
        "#------------------\n",
        "#Sum Operation to find the total of array\n",
        "print('the total sum is',a1.sum())\n",
        "\n",
        "#Sum at specific axis\n",
        "b=np.array([[1,6],\n",
        "            [3,4]])\n",
        "print('Vertical Axis Comparision)',b.sum(axis=0))\n",
        "print('Horizontal Comparision',b.sum(axis=1))\n",
        "\n",
        "#max\n",
        "print('The max is',b.max())\n",
        "print('the max in (Vertical Axis))',b.max(axis=0))\n",
        "print('the max in (Horizontal Axis))',b.max(axis=1))\n",
        "#min\n",
        "print('the minimum is',b.min())\n",
        "print('the minimum in Vertical Axis))',b.min(axis=0))\n",
        "print('the minimum in Horizontal Axis))',b.min(axis=1))\n",
        "\n",
        "#change data type\n",
        "c = np.array([1, 2, 3], dtype=int)\n",
        "c_float = c.astype(float)\n",
        "print(c_float)"
      ],
      "metadata": {
        "colab": {
          "base_uri": "https://localhost:8080/"
        },
        "id": "r1yMy3eJhvJ-",
        "outputId": "d07d49b0-552c-4011-e534-d0f91354b8ff"
      },
      "execution_count": null,
      "outputs": [
        {
          "output_type": "stream",
          "name": "stdout",
          "text": [
            "[2 3]\n",
            "[ 0 -1]\n",
            "[1 2]\n",
            "[1.  0.5]\n",
            "the total sum is 2\n",
            "Vertical Axis Comparision) [ 4 10]\n",
            "Horizontal Comparision [7 7]\n",
            "The max is 6\n",
            "the max in (Vertical Axis)) [3 6]\n",
            "the max in (Horizontal Axis)) [6 4]\n",
            "the minimum is 1\n",
            "the minimum in Vertical Axis)) [1 4]\n",
            "the minimum in Horizontal Axis)) [1 3]\n",
            "[1. 2. 3.]\n"
          ]
        }
      ]
    },
    {
      "cell_type": "markdown",
      "source": [
        "**Type UpCasting**"
      ],
      "metadata": {
        "id": "cX5fDf_CXJ41"
      }
    },
    {
      "cell_type": "code",
      "source": [
        "\n",
        "#When operating with arrays of different types,\n",
        "#the type of the resulting array corresponds to the more general or precise one (a behavior known as upcasting).\n",
        "\n",
        "a = np.ones(3, dtype=np.int32)  # Integer type\n",
        "b = np.linspace(0, 3.14, 3)  # float type\n",
        "b.dtype.name\n",
        "c = a + b\n",
        "c\n",
        "c.dtype.name  # will be float as considered as generic type that supports a & b\n",
        "d = np.exp(c * 1j)\n",
        "d\n",
        "d.dtype.name\n"
      ],
      "metadata": {
        "colab": {
          "base_uri": "https://localhost:8080/",
          "height": 35
        },
        "id": "Vwy5LBJVXQV1",
        "outputId": "5fc12e3a-4212-42dc-9b0b-7ef1d87460af"
      },
      "execution_count": null,
      "outputs": [
        {
          "output_type": "execute_result",
          "data": {
            "text/plain": [
              "'complex128'"
            ],
            "application/vnd.google.colaboratory.intrinsic+json": {
              "type": "string"
            }
          },
          "metadata": {},
          "execution_count": 4
        }
      ]
    },
    {
      "cell_type": "markdown",
      "source": [
        "**Matrix Operations ( Element wise and entire matrix wise )**"
      ],
      "metadata": {
        "id": "080LUI1tVqJH"
      }
    },
    {
      "cell_type": "code",
      "source": [
        "import numpy as np\n",
        "A = np.array([[1, 1],\n",
        "              [0, 1]])\n",
        "B = np.array([[2, 0],\n",
        "              [3, 4]])\n",
        "print('Element wise multiplication',A * B)     # elementwise product\n",
        "\n",
        "# Matrix wise product\n",
        "#Result (0, 0): (1 * 2) + (1 * 3) = 5\n",
        "#Result (0, 1): (1 * 0) + (1 * 4) = 4\n",
        "#Result (1, 0): (0 * 2) + (1 * 3) = 3\n",
        "#Result (1, 1): (0 * 0) + (1 * 4) = 4\n",
        "print('Matrix Multiplication',A @ B )     # matrix product\n",
        "print('another matrix multiplication',A.dot(B))  # another matrix product\n",
        "print('Another way :)',np.matmul(A,B))"
      ],
      "metadata": {
        "id": "2hX8SQh9WPHf",
        "colab": {
          "base_uri": "https://localhost:8080/"
        },
        "outputId": "e65d44eb-7071-42cd-ecd5-ba24077185f4"
      },
      "execution_count": null,
      "outputs": [
        {
          "output_type": "stream",
          "name": "stdout",
          "text": [
            "Element wise multiplication [[2 0]\n",
            " [0 4]]\n",
            "Matrix Multiplication [[5 4]\n",
            " [3 4]]\n",
            "another matrix multiplication [[5 4]\n",
            " [3 4]]\n"
          ]
        }
      ]
    },
    {
      "cell_type": "markdown",
      "source": [
        "**Broadcasting Arrays**"
      ],
      "metadata": {
        "id": "L-hilBp7t8Bp"
      }
    },
    {
      "cell_type": "code",
      "source": [
        "#Broadcasting means Arithmetic operations ( of different sizes )\n",
        "\n",
        "#success case\n",
        "a = np.array([[1, 2, 3]])  # Shape: (1, 3)\n",
        "b = np.array([[10], [20], [30]])  # Shape: (3, 1)\n",
        "\n",
        "result = a + b\n",
        "print(result)\n",
        "print(result.shape)\n",
        "\n",
        "#Failure case\n",
        "a = np.array([[1, 2, 3]])  # Shape: (1,3)\n",
        "b = np.array([[1, 2], [3, 4]])  # Shape: (2, 2)\n",
        "\n",
        "try:\n",
        "    result = a + b\n",
        "    print(result)\n",
        "except ValueError as e: #valueerror is the exception thrown when shape mismatches in broadcasting\n",
        "    print(f\"Broadcasting error: {e}\")\n",
        "\n",
        "data = np.array([[1, 2], [3, 4], [5, 6]])\n",
        "ones_row = np.array([[1, 1]])\n",
        "print(data.shape)\n",
        "print(ones_row.shape)\n",
        "print('Different shape broadcasting',data + ones_row)\n",
        "\n"
      ],
      "metadata": {
        "colab": {
          "base_uri": "https://localhost:8080/"
        },
        "id": "oWDg2x-tB7Au",
        "outputId": "f6f35ad0-cc41-4ee4-f019-1a77f097931d"
      },
      "execution_count": null,
      "outputs": [
        {
          "output_type": "stream",
          "name": "stdout",
          "text": [
            "[[11 12 13]\n",
            " [21 22 23]\n",
            " [31 32 33]]\n",
            "(3, 3)\n",
            "Broadcasting error: operands could not be broadcast together with shapes (1,3) (2,2) \n",
            "(3, 2)\n",
            "(1, 2)\n",
            "Different shape broadcasting [[2 3]\n",
            " [4 5]\n",
            " [6 7]]\n"
          ]
        }
      ]
    },
    {
      "cell_type": "markdown",
      "source": [
        "**Creating Matrices**"
      ],
      "metadata": {
        "id": "vMDX2QIGFmMZ"
      }
    },
    {
      "cell_type": "code",
      "source": [
        "data = np.array([[1, 2], [5, 3], [4, 6]])\n",
        "print(data)\n",
        "print('fetching 0th row 1st column',data[0,1]) #fetching 0th row 1st column\n",
        "print('fetching from 1st row and till 2nd row',data[1:3]) #fetching from 1st row and till 2nd row\n",
        "print('fetching from 0 to 1 rows and 0th column',data[0:2,0]) #fetching from 0 to 1 rows and 0th column\n",
        "print('Max value',data.max())\n",
        "print('Min Value',data.min())\n",
        "print('Column Max',data.max(axis=0)) #Column_Max\n",
        "print('Row Max',data.max(axis=1)) #Row_Max\n",
        "\n"
      ],
      "metadata": {
        "colab": {
          "base_uri": "https://localhost:8080/"
        },
        "id": "JOM-kAsjFsLB",
        "outputId": "ee52d789-1380-4e60-bd0b-c8dfe3bc8744"
      },
      "execution_count": null,
      "outputs": [
        {
          "output_type": "stream",
          "name": "stdout",
          "text": [
            "[[1 2]\n",
            " [5 3]\n",
            " [4 6]]\n",
            "fetching 0th row 1st column 2\n",
            "fetching from 1st row and till 2nd row [[5 3]\n",
            " [4 6]]\n",
            "fetching from 0 to 1 rows and 0th column [1 5]\n",
            "Max value 6\n",
            "Min Value 1\n",
            "Column Max [5 6]\n",
            "Row Max [2 5 6]\n"
          ]
        }
      ]
    },
    {
      "cell_type": "markdown",
      "source": [],
      "metadata": {
        "id": "QqWBTqBhpKTo"
      }
    },
    {
      "cell_type": "markdown",
      "source": [
        "**Random Generator**\n",
        "Note:The rng.random() function in NumPy is designed to generate random numbers from a continuous uniform distribution over the interval [0.0, 1.0).\n",
        "To represent numbers from a continuous distribution within a specific range, floating-point numbers (floats) are the natural choice."
      ],
      "metadata": {
        "id": "A8KZl-dZnLCl"
      }
    },
    {
      "cell_type": "code",
      "source": [
        "from numpy.random import default_rng\n",
        "rng=default_rng()\n",
        "#Random array\n",
        "rng.random(3)\n",
        "#random range with seed 40(to get the same result again seed value is used) and shape (2,3)\n",
        "print(default_rng(40).random((2,3)))\n",
        "#Random matrix\n",
        "rng.random((3,2))\n",
        "#Random integers between zero and 5\n",
        "random_array = rng.integers(0, 5, size=5)\n",
        "print(random_array)\n",
        "# Generate a 2x3 matrix of random integers between -5 (inclusive) and 5 (exclusive)\n",
        "random_matrix = rng.integers(-5, 5, size=(2, 3))\n",
        "print(random_matrix)\n",
        "#to make the higher number inclusive, then set the endpoint='true'\n",
        "random_matrix = rng.integers(-5, 5, size=(2, 3),endpoint='true')\n",
        "print(random_matrix)\n"
      ],
      "metadata": {
        "colab": {
          "base_uri": "https://localhost:8080/"
        },
        "id": "2_w0K5l4nOdJ",
        "outputId": "35be0b6c-a3d7-4a24-e6e2-7de703d52ce9"
      },
      "execution_count": null,
      "outputs": [
        {
          "output_type": "stream",
          "name": "stdout",
          "text": [
            "[[0.7298985  0.69341496 0.94192102]\n",
            " [0.05965206 0.69052097 0.92239752]]\n",
            "[2 0 1 0 2]\n",
            "[[ 2 -1 -1]\n",
            " [-4  2 -2]]\n",
            "[[ 1 -5  5]\n",
            " [ 4 -2  5]]\n"
          ]
        }
      ]
    },
    {
      "cell_type": "markdown",
      "source": [
        "**Uniqueness in array**"
      ],
      "metadata": {
        "id": "DMh8NAOIQDM4"
      }
    },
    {
      "cell_type": "code",
      "source": [
        "a = np.array([11, 11, 12, 13, 14, 15, 16, 17, 12, 13, 11, 14, 18, 19, 20])\n",
        "#Print Unique values( when no other params are mentioned, return will be in SORTED ORDER)\n",
        "unique_values = np.unique(a)\n",
        "#returns the first matching index of the unique values using return_index flag\n",
        "indices_list = np.unique(a, return_index=True)\n",
        "#to get frequency count of unique values\n",
        "occurance_count = np.unique(a, return_counts=True)\n",
        "print('Unique Values list',unique_values)\n",
        "print('Unique Value index list',indices_list)\n",
        "print('Unique Values frequency count',occurance_count)\n",
        "\n",
        "#Uniqueness in 2D array\n",
        "a_2d = np.array([[5, 2, 3, 4], [5, 6, 7, 8], [9, 10, 11, 12], [1, 2, 3, 4]])\n",
        "print('Default Sorted',np.unique(a_2d))\n",
        "unique_rows = np.unique(a_2d, axis=0)\n",
        "print('Unique Rows',unique_rows) # Default sorted when no return params are used\n",
        "a_2d_c = np.array([[4,1],[6,0]])\n",
        "row_sum = np.sum(a_2d_c, axis=0)\n",
        "print('X-Axis sum', row_sum)\n",
        "col_sum = np.sum(a_2d_c, axis=1)\n",
        "print('Y-Axis sum', col_sum)\n",
        "\n",
        "#Uniquess in Axis\n",
        "a_2d_c= np.array([[4,1],\n",
        "                  [4,1]])\n",
        "unique_x = np.unique(a_2d_c, axis=0)\n",
        "unique_y = np.unique(a_2d_c, axis=1)\n",
        "print('Unique Vertical axis',unique_x)\n",
        "#NOTE -!!! UNIQUE COLUMNS ( AXIS = 1 ) doesnt work as expected.\n",
        "print('Unique Horizontal Axis',unique_y)"
      ],
      "metadata": {
        "colab": {
          "base_uri": "https://localhost:8080/"
        },
        "id": "IBSKxYj3Qpuc",
        "outputId": "c0618b58-017b-4ea9-cf92-cb0ad2124a93"
      },
      "execution_count": null,
      "outputs": [
        {
          "output_type": "stream",
          "name": "stdout",
          "text": [
            "Unique Values list [11 12 13 14 15 16 17 18 19 20]\n",
            "Unique Value index list (array([11, 12, 13, 14, 15, 16, 17, 18, 19, 20]), array([ 0,  2,  3,  4,  5,  6,  7, 12, 13, 14]))\n",
            "Unique Values frequency count (array([11, 12, 13, 14, 15, 16, 17, 18, 19, 20]), array([3, 2, 2, 2, 1, 1, 1, 1, 1, 1]))\n",
            "Default Sorted [ 1  2  3  4  5  6  7  8  9 10 11 12]\n",
            "Unique Rows [[ 1  2  3  4]\n",
            " [ 5  2  3  4]\n",
            " [ 5  6  7  8]\n",
            " [ 9 10 11 12]]\n",
            "X-Axis sum [10  1]\n",
            "Y-Axis sum [5 6]\n",
            "Unique Vertical axis [[4 1]]\n",
            "Unique Horizontal Axis [[1 4]\n",
            " [1 4]]\n"
          ]
        }
      ]
    },
    {
      "cell_type": "markdown",
      "source": [
        "**Transposing and Reversal the Matrix**\n",
        "\n",
        "Note: See how Transposing works for 3D array\n"
      ],
      "metadata": {
        "id": "vAKbDcsX1Sh5"
      }
    },
    {
      "cell_type": "code",
      "source": [
        "#Matrix Transpose\n",
        "arr = np.arange(6).reshape((2, 3))\n",
        "print('Original Array',arr)\n",
        "print('Transposed Array',arr.T)\n",
        "print(arr.T)\n",
        "print(arr.transpose())\n",
        "print('--------------------------------')\n",
        "#Reversal\n",
        "#Reversing entire 2D array( in both axes)\n",
        "arr_2d = np.array([[1, 2, 3, 4], [5, 6, 7, 8], [9, 10, 11, 12]])\n",
        "print('original array',arr_2d)\n",
        "reversed_arr = np.flip(arr_2d)\n",
        "print('Reversed Array',reversed_arr)\n",
        "reversed_arr_rows = np.flip(arr_2d, axis=0)\n",
        "print('Reversed Rows only',reversed_arr_rows)\n",
        "reversed_arr_columns = np.flip(arr_2d, axis=1)\n",
        "print('Reversed Col Only', reversed_arr_columns)\n",
        "#Reversing specific row alone\n",
        "print('Reversing specific row',np.flip(arr_2d[1]))\n",
        "#Reversing specific column alone\n",
        "print('Reversing Specific Column',np.flip(arr_2d[:,1]))\n",
        "print('Reversing single column',arr_2d)"
      ],
      "metadata": {
        "colab": {
          "base_uri": "https://localhost:8080/"
        },
        "id": "bTstKchG1Yqv",
        "outputId": "db543e3b-ae8d-4cfe-9063-75ef3be36c2c"
      },
      "execution_count": null,
      "outputs": [
        {
          "output_type": "stream",
          "name": "stdout",
          "text": [
            "Original Array [[0 1 2]\n",
            " [3 4 5]]\n",
            "Transposed Array [[0 3]\n",
            " [1 4]\n",
            " [2 5]]\n",
            "[[0 3]\n",
            " [1 4]\n",
            " [2 5]]\n",
            "[[0 3]\n",
            " [1 4]\n",
            " [2 5]]\n",
            "--------------------------------\n",
            "original array [[ 1  2  3  4]\n",
            " [ 5  6  7  8]\n",
            " [ 9 10 11 12]]\n",
            "Reversed Array [[12 11 10  9]\n",
            " [ 8  7  6  5]\n",
            " [ 4  3  2  1]]\n",
            "Reversed Rows only [[ 9 10 11 12]\n",
            " [ 5  6  7  8]\n",
            " [ 1  2  3  4]]\n",
            "Reversed Col Only [[ 4  3  2  1]\n",
            " [ 8  7  6  5]\n",
            " [12 11 10  9]]\n",
            "Reversing specific row [8 7 6 5]\n",
            "Reversing Specific Column [10  6  2]\n",
            "Reversing single column [[ 1  2  3  4]\n",
            " [ 5  6  7  8]\n",
            " [ 9 10 11 12]]\n"
          ]
        }
      ]
    },
    {
      "cell_type": "markdown",
      "source": [
        "**Multi Dimensional Arrays**"
      ],
      "metadata": {
        "id": "rCl8btjxq15E"
      }
    },
    {
      "cell_type": "code",
      "source": [
        "c = np.array([[[  0,  1,  2],  # a 3D array (two stacked 2D arrays)\n",
        "               [ 10, 12, 13]],\n",
        "              [[100, 101, 102],\n",
        "               [110, 112, 113]]])\n",
        "c.shape\n",
        "c[1, ...]  # same as c[1, :, :] or c[1]\n",
        "b=c[1,:,2]  # same as c[:, :, 2]\n",
        "print(b) # shape will be [,2]\n",
        "np.shape(b) # why it is not retriving the shape as [2,]? as i am choosing the colums only?\n",
        "b=c[1,1,2:] #Now the shape will be [2,]\n",
        "print(b)\n",
        "print(np.shape(b))\n",
        "\n",
        "#Iterating through  ND arrays with respect to first axis\n",
        "for row in c:\n",
        "    print(row)\n",
        "\n",
        "#Iterating by flattening the arrays\n",
        "for element in b.flat:\n",
        "    print(element)"
      ],
      "metadata": {
        "colab": {
          "base_uri": "https://localhost:8080/"
        },
        "id": "zMr4yA_Mq41o",
        "outputId": "8ad29a8e-436c-4f27-a21a-bd5a45395c22"
      },
      "execution_count": null,
      "outputs": [
        {
          "output_type": "stream",
          "name": "stdout",
          "text": [
            "[102 113]\n",
            "[113]\n",
            "(1,)\n",
            "[[ 0  1  2]\n",
            " [10 12 13]]\n",
            "[[100 101 102]\n",
            " [110 112 113]]\n",
            "113\n"
          ]
        }
      ]
    },
    {
      "cell_type": "markdown",
      "source": [
        "**Reshaping and Flattening of ND arrays**"
      ],
      "metadata": {
        "id": "UeGhir17_gEK"
      }
    },
    {
      "cell_type": "code",
      "source": [
        "x = np.array([[1 ,2, 3, 4], [5, 6, 7, 8], [9, 10, 11, 12]])\n",
        "#using flatten(doesnt affect original array 'X')\n",
        "a1=x.flatten()\n",
        "print('Flatten', a1)\n",
        "#using ravel(affect the original array 'X')\n",
        "a2=x.ravel()\n",
        "print('Ravel',a2)\n",
        "#reshape -> doesnt modify the input array\n",
        "y = np.array([[1 ,2, 3, 4], [5, 6, 7, 8], [9, 10, 11, 12]])\n",
        "print('Reshaped',y.reshape(6,2))\n",
        "print('Reshaped',y) #doesnt affect original\n",
        "\n",
        "#using resize-> affects original\n",
        "y = np.array([[1 ,2, 3, 4], [5, 6, 7, 8], [9, 10, 11, 12]])\n",
        "y.resize(6,2)\n",
        "print('Resized',y)\n",
        "\n",
        "#using Transpose\n",
        "print('Transpose',y.T)\n",
        "\n",
        "\n"
      ],
      "metadata": {
        "colab": {
          "base_uri": "https://localhost:8080/"
        },
        "id": "gx-MbPVE_kL8",
        "outputId": "ec800ece-124d-417f-96eb-b25165b9092b"
      },
      "execution_count": null,
      "outputs": [
        {
          "output_type": "stream",
          "name": "stdout",
          "text": [
            "Flatten [ 1  2  3  4  5  6  7  8  9 10 11 12]\n",
            "Ravel [ 1  2  3  4  5  6  7  8  9 10 11 12]\n",
            "Reshaped [[ 1  2]\n",
            " [ 3  4]\n",
            " [ 5  6]\n",
            " [ 7  8]\n",
            " [ 9 10]\n",
            " [11 12]]\n",
            "Reshaped [[ 1  2  3  4]\n",
            " [ 5  6  7  8]\n",
            " [ 9 10 11 12]]\n",
            "Resized [[ 1  2]\n",
            " [ 3  4]\n",
            " [ 5  6]\n",
            " [ 7  8]\n",
            " [ 9 10]\n",
            " [11 12]]\n",
            "Transpose [[ 1  3  5  7  9 11]\n",
            " [ 2  4  6  8 10 12]]\n"
          ]
        }
      ]
    },
    {
      "cell_type": "markdown",
      "source": [
        "**Help Documentation**"
      ],
      "metadata": {
        "id": "QKtCI4TPsu-h"
      }
    },
    {
      "cell_type": "code",
      "source": [
        "#help documentation using help function\n",
        "help(np.unique)\n",
        "#using  ipython(?) command\n",
        "np.unique?\n",
        "a=np.arange(6)\n",
        "a?\n",
        "#We can also read the source code of the inbuilt function using ?? operation\n",
        "np.unique??\n"
      ],
      "metadata": {
        "colab": {
          "base_uri": "https://localhost:8080/"
        },
        "id": "t34CQNxFsycw",
        "outputId": "35351932-d82c-485b-da56-421b9fe79ac5"
      },
      "execution_count": null,
      "outputs": [
        {
          "output_type": "stream",
          "name": "stdout",
          "text": [
            "Help on _ArrayFunctionDispatcher in module numpy:\n",
            "\n",
            "unique(ar, return_index=False, return_inverse=False, return_counts=False, axis=None, *, equal_nan=True)\n",
            "    Find the unique elements of an array.\n",
            "    \n",
            "    Returns the sorted unique elements of an array. There are three optional\n",
            "    outputs in addition to the unique elements:\n",
            "    \n",
            "    * the indices of the input array that give the unique values\n",
            "    * the indices of the unique array that reconstruct the input array\n",
            "    * the number of times each unique value comes up in the input array\n",
            "    \n",
            "    Parameters\n",
            "    ----------\n",
            "    ar : array_like\n",
            "        Input array. Unless `axis` is specified, this will be flattened if it\n",
            "        is not already 1-D.\n",
            "    return_index : bool, optional\n",
            "        If True, also return the indices of `ar` (along the specified axis,\n",
            "        if provided, or in the flattened array) that result in the unique array.\n",
            "    return_inverse : bool, optional\n",
            "        If True, also return the indices of the unique array (for the specified\n",
            "        axis, if provided) that can be used to reconstruct `ar`.\n",
            "    return_counts : bool, optional\n",
            "        If True, also return the number of times each unique item appears\n",
            "        in `ar`.\n",
            "    axis : int or None, optional\n",
            "        The axis to operate on. If None, `ar` will be flattened. If an integer,\n",
            "        the subarrays indexed by the given axis will be flattened and treated\n",
            "        as the elements of a 1-D array with the dimension of the given axis,\n",
            "        see the notes for more details.  Object arrays or structured arrays\n",
            "        that contain objects are not supported if the `axis` kwarg is used. The\n",
            "        default is None.\n",
            "    \n",
            "        .. versionadded:: 1.13.0\n",
            "    \n",
            "    equal_nan : bool, optional\n",
            "        If True, collapses multiple NaN values in the return array into one.\n",
            "    \n",
            "        .. versionadded:: 1.24\n",
            "    \n",
            "    Returns\n",
            "    -------\n",
            "    unique : ndarray\n",
            "        The sorted unique values.\n",
            "    unique_indices : ndarray, optional\n",
            "        The indices of the first occurrences of the unique values in the\n",
            "        original array. Only provided if `return_index` is True.\n",
            "    unique_inverse : ndarray, optional\n",
            "        The indices to reconstruct the original array from the\n",
            "        unique array. Only provided if `return_inverse` is True.\n",
            "    unique_counts : ndarray, optional\n",
            "        The number of times each of the unique values comes up in the\n",
            "        original array. Only provided if `return_counts` is True.\n",
            "    \n",
            "        .. versionadded:: 1.9.0\n",
            "    \n",
            "    See Also\n",
            "    --------\n",
            "    numpy.lib.arraysetops : Module with a number of other functions for\n",
            "                            performing set operations on arrays.\n",
            "    repeat : Repeat elements of an array.\n",
            "    \n",
            "    Notes\n",
            "    -----\n",
            "    When an axis is specified the subarrays indexed by the axis are sorted.\n",
            "    This is done by making the specified axis the first dimension of the array\n",
            "    (move the axis to the first dimension to keep the order of the other axes)\n",
            "    and then flattening the subarrays in C order. The flattened subarrays are\n",
            "    then viewed as a structured type with each element given a label, with the\n",
            "    effect that we end up with a 1-D array of structured types that can be\n",
            "    treated in the same way as any other 1-D array. The result is that the\n",
            "    flattened subarrays are sorted in lexicographic order starting with the\n",
            "    first element.\n",
            "    \n",
            "    .. versionchanged: NumPy 1.21\n",
            "        If nan values are in the input array, a single nan is put\n",
            "        to the end of the sorted unique values.\n",
            "    \n",
            "        Also for complex arrays all NaN values are considered equivalent\n",
            "        (no matter whether the NaN is in the real or imaginary part).\n",
            "        As the representant for the returned array the smallest one in the\n",
            "        lexicographical order is chosen - see np.sort for how the lexicographical\n",
            "        order is defined for complex arrays.\n",
            "    \n",
            "    Examples\n",
            "    --------\n",
            "    >>> np.unique([1, 1, 2, 2, 3, 3])\n",
            "    array([1, 2, 3])\n",
            "    >>> a = np.array([[1, 1], [2, 3]])\n",
            "    >>> np.unique(a)\n",
            "    array([1, 2, 3])\n",
            "    \n",
            "    Return the unique rows of a 2D array\n",
            "    \n",
            "    >>> a = np.array([[1, 0, 0], [1, 0, 0], [2, 3, 4]])\n",
            "    >>> np.unique(a, axis=0)\n",
            "    array([[1, 0, 0], [2, 3, 4]])\n",
            "    \n",
            "    Return the indices of the original array that give the unique values:\n",
            "    \n",
            "    >>> a = np.array(['a', 'b', 'b', 'c', 'a'])\n",
            "    >>> u, indices = np.unique(a, return_index=True)\n",
            "    >>> u\n",
            "    array(['a', 'b', 'c'], dtype='<U1')\n",
            "    >>> indices\n",
            "    array([0, 1, 3])\n",
            "    >>> a[indices]\n",
            "    array(['a', 'b', 'c'], dtype='<U1')\n",
            "    \n",
            "    Reconstruct the input array from the unique values and inverse:\n",
            "    \n",
            "    >>> a = np.array([1, 2, 6, 4, 2, 3, 2])\n",
            "    >>> u, indices = np.unique(a, return_inverse=True)\n",
            "    >>> u\n",
            "    array([1, 2, 3, 4, 6])\n",
            "    >>> indices\n",
            "    array([0, 1, 4, 3, 1, 2, 1])\n",
            "    >>> u[indices]\n",
            "    array([1, 2, 6, 4, 2, 3, 2])\n",
            "    \n",
            "    Reconstruct the input values from the unique values and counts:\n",
            "    \n",
            "    >>> a = np.array([1, 2, 6, 4, 2, 3, 2])\n",
            "    >>> values, counts = np.unique(a, return_counts=True)\n",
            "    >>> values\n",
            "    array([1, 2, 3, 4, 6])\n",
            "    >>> counts\n",
            "    array([1, 3, 1, 1, 1])\n",
            "    >>> np.repeat(values, counts)\n",
            "    array([1, 2, 2, 2, 3, 4, 6])    # original order not preserved\n",
            "\n"
          ]
        }
      ]
    },
    {
      "cell_type": "markdown",
      "source": [
        "Working with Mathematical Formulas"
      ],
      "metadata": {
        "id": "VGBwc6ntuYMU"
      }
    },
    {
      "cell_type": "code",
      "source": [
        "#Implement Mean Square Error  Formula\n",
        "# Mean Square Error = (1/n) * np.sum(np.square(predictions - labels ))"
      ],
      "metadata": {
        "id": "wjaj7kw2ug52"
      },
      "execution_count": null,
      "outputs": []
    },
    {
      "cell_type": "markdown",
      "source": [
        "**Saving and loading NumPy Objects**"
      ],
      "metadata": {
        "id": "OyKG-Oy1Z6PK"
      }
    },
    {
      "cell_type": "code",
      "source": [
        "a = np.arange(6)\n",
        "#saving single nD array to .npy file\n",
        "print(a)\n",
        "np.save('single_Array_binary',a)\n",
        "#load the file to reconstruct the array\n",
        "np.load('single_Array_binary.npy')"
      ],
      "metadata": {
        "colab": {
          "base_uri": "https://localhost:8080/"
        },
        "id": "hSe2SMTWmLnp",
        "outputId": "729cd1be-d708-4b8f-cacc-03c15cc2c7fb"
      },
      "execution_count": null,
      "outputs": [
        {
          "output_type": "stream",
          "name": "stdout",
          "text": [
            "[0 1 2 3 4 5]\n"
          ]
        },
        {
          "output_type": "execute_result",
          "data": {
            "text/plain": [
              "array([0, 1, 2, 3, 4, 5])"
            ]
          },
          "metadata": {},
          "execution_count": 9
        }
      ]
    },
    {
      "cell_type": "markdown",
      "source": [
        "Storing multiple arrays zipped (.npz format )"
      ],
      "metadata": {
        "id": "gkUoyjF1pECi"
      }
    },
    {
      "cell_type": "code",
      "source": [
        "#method 1 <passing each array in the arugment\n",
        "# Create some sample arrays\n",
        "array1 = np.array([1, 2, 3, 4, 5])\n",
        "array2 = np.array([[10, 20], [30, 40]])\n",
        "array3 = np.arange(12).reshape((3, 4))\n",
        "\n",
        "# Save the arrays to a .npz file\n",
        "np.savez('my_arrays.npz', arr_one=array1, arr_two=array2, arr_three=array3)\n",
        "\n",
        "# Load the .npz file and access the arrays\n",
        "loaded_arrays = np.load('my_arrays.npz')\n",
        "\n",
        "# Print the names of the arrays in the .npz file\n",
        "print(\"Arrays in .npz file:\", loaded_arrays.files)\n",
        "\n",
        "# Access and print the loaded arrays\n",
        "print(\"\\nLoaded array 'arr_one':\\n\", loaded_arrays['arr_one'])\n",
        "print(\"\\nLoaded array 'arr_two':\\n\", loaded_arrays['arr_two'])\n",
        "print(\"\\nLoaded array 'arr_three':\\n\", loaded_arrays['arr_three'])\n",
        "\n",
        "#demonstrating that the loaded arrays are indeed numpy arrays.\n",
        "print(type(loaded_arrays['arr_one']))\n",
        "\n",
        "# Method 2 creating a dictionary and loading the arrays\n",
        "arrays = [np.array([1, 2, 3]), np.array([4, 5, 6]), np.array([7,8,9])]\n",
        "names = [\"array1\", \"array2\", \"array3\"]\n",
        "\n",
        "# Create a dictionary of arrays\n",
        "array_dict = {names[i]: arrays[i] for i in range(len(arrays))}\n",
        "\n",
        "# Save the dictionary to a .npz file\n",
        "np.savez('my_arrays.npz', **array_dict)\n",
        "\n",
        "# Load the .npz file\n",
        "loaded_arrays = np.load('my_arrays.npz')\n",
        "\n",
        "# Print the loaded arrays\n",
        "print(loaded_arrays.files)\n",
        "for name in names:\n",
        "    print(loaded_arrays[name])"
      ],
      "metadata": {
        "colab": {
          "base_uri": "https://localhost:8080/"
        },
        "id": "cXKOIZAHpJ0o",
        "outputId": "62d947cc-01e8-4e5d-97ad-f0a5c95f88a1"
      },
      "execution_count": null,
      "outputs": [
        {
          "output_type": "stream",
          "name": "stdout",
          "text": [
            "Arrays in .npz file: ['arr_one', 'arr_two', 'arr_three']\n",
            "\n",
            "Loaded array 'arr_one':\n",
            " [1 2 3 4 5]\n",
            "\n",
            "Loaded array 'arr_two':\n",
            " [[10 20]\n",
            " [30 40]]\n",
            "\n",
            "Loaded array 'arr_three':\n",
            " [[ 0  1  2  3]\n",
            " [ 4  5  6  7]\n",
            " [ 8  9 10 11]]\n",
            "<class 'numpy.ndarray'>\n",
            "['array1', 'array2', 'array3']\n",
            "[1 2 3]\n",
            "[4 5 6]\n",
            "[7 8 9]\n"
          ]
        }
      ]
    },
    {
      "cell_type": "markdown",
      "source": [
        "**Loading .csv or .txt file**The savetxt() and loadtxt() functions accept additional optional parameters such as header, footer, and delimiter. While text files can be easier for sharing, .npy and .npz files are smaller and faster to read"
      ],
      "metadata": {
        "id": "vgQTwUhlpose"
      }
    },
    {
      "cell_type": "code",
      "source": [
        "csv_arr = np.array([1, 2, 3, 4, 5, 6, 7, 8], dtype = 'int32')\n",
        "print(csv_arr)\n",
        "np.savetxt('csv_file.csv', csv_arr, fmt='%d') #save the format as integer\n",
        "np.loadtxt('csv_file.csv', dtype='int32') #load the file as integer"
      ],
      "metadata": {
        "colab": {
          "base_uri": "https://localhost:8080/"
        },
        "id": "3T1V2tCqptSJ",
        "outputId": "76924707-c669-4b08-e2a9-b4e5495a2ef0"
      },
      "execution_count": null,
      "outputs": [
        {
          "output_type": "stream",
          "name": "stdout",
          "text": [
            "[1 2 3 4 5 6 7 8]\n"
          ]
        },
        {
          "output_type": "execute_result",
          "data": {
            "text/plain": [
              "array([1, 2, 3, 4, 5, 6, 7, 8], dtype=int32)"
            ]
          },
          "metadata": {},
          "execution_count": 12
        }
      ]
    },
    {
      "cell_type": "markdown",
      "source": [
        "**More plays on indexing**"
      ],
      "metadata": {
        "id": "sUwrtZhcK4Ym"
      }
    },
    {
      "cell_type": "code",
      "source": [
        "#Indexing with Single Dimension\n",
        "a = np.arange(12)**2  # the first 12 square numbers\n",
        "i = np.array([1, 1, 3, 8, 5])  # an array of indices\n",
        "print(a[i])  # It prints the elements of `a` at the positions `i`\n",
        "\n",
        "j = np.array([[3, 4], [9, 7]])  # a bidimensional array of indices\n",
        "print(a[j])  # it prints the element of a at position 'i' with the same shape as `j`\n",
        "\n",
        "#Indexing with multi dimension\n",
        "#When the source array 'b' is multidimensional,\n",
        "#a single array of indices 'i' refers to the first dimension of 'b'\n",
        "b = np.arange(12).reshape(3, 4)\n",
        "#original array\n",
        "i=np.array([1,2,2])\n",
        "print('Multi dim. orginal',b)\n",
        "print('Multi dim. indexing',b[i])\n",
        "\n",
        "#when the array 'b' is multi dimensional and i is also multi dimension\n",
        "palette = np.array([[0, 0, 0],         # black\n",
        "                    [255, 0, 0],       # red\n",
        "                    [0, 255, 0],       # green\n",
        "                    [0, 0, 255],       # blue\n",
        "                    [255, 255, 255]])  # white\n",
        "image = np.array([[0, 1, 2, 0],  # each value corresponds to a color(row) in the palette\n",
        "                  [0, 3, 4, 0]])\n",
        "print('Pallet with Image',palette[image])\n",
        "print('-----------------------------------------------------------')\n",
        "#When the array 'b' is multi dimensional, we are passing i, j and\n",
        "#both are multi dimensional\n",
        "a = np.arange(12).reshape(3, 4)\n",
        "print('original Array',a)\n",
        "i = np.array([[0, 1],  # indices for the first dim of `a`\n",
        "              [1, 2]])\n",
        "j = np.array([[2, 1],  # indices for the second dim\n",
        "              [3, 3]])\n",
        "\n",
        "#Here it consideres i & j as co.orinates by iteration\n",
        "#eg. a[i[0,0],j[0,0]] = a[0,2] =2\n",
        "#a[i[0, 1], j[0, 1]] = a[1, 1] = 5\n",
        "#a[i[1, 0], j[1, 0]] = a[1, 3] = 7\n",
        "#a[i[1, 1], j[1, 1]] = a[2, 3] = 11\n",
        "#so output will be [[2,5],[7,11]\n",
        "a[i, j]  # i and j must have equal shape\n",
        "a[i, 2]\n",
        "a[:, j]\n",
        "\n",
        "\n"
      ],
      "metadata": {
        "colab": {
          "base_uri": "https://localhost:8080/"
        },
        "id": "BhAmdm5FK7OT",
        "outputId": "2e42cc95-9a61-4355-ffe5-cca5874e619d"
      },
      "execution_count": null,
      "outputs": [
        {
          "output_type": "stream",
          "name": "stdout",
          "text": [
            "[ 1  1  9 64 25]\n",
            "[[ 9 16]\n",
            " [81 49]]\n",
            "Multi dim. orginal [[ 0  1  2  3]\n",
            " [ 4  5  6  7]\n",
            " [ 8  9 10 11]]\n",
            "Multi dim. indexing [[ 4  5  6  7]\n",
            " [ 8  9 10 11]\n",
            " [ 8  9 10 11]]\n",
            "Pallet with Image [[[  0   0   0]\n",
            "  [255   0   0]\n",
            "  [  0 255   0]\n",
            "  [  0   0   0]]\n",
            "\n",
            " [[  0   0   0]\n",
            "  [  0   0 255]\n",
            "  [255 255 255]\n",
            "  [  0   0   0]]]\n",
            "-----------------------------------------------------------\n",
            "original Array [[ 0  1  2  3]\n",
            " [ 4  5  6  7]\n",
            " [ 8  9 10 11]]\n"
          ]
        },
        {
          "output_type": "execute_result",
          "data": {
            "text/plain": [
              "array([[[ 2,  1],\n",
              "        [ 3,  3]],\n",
              "\n",
              "       [[ 6,  5],\n",
              "        [ 7,  7]],\n",
              "\n",
              "       [[10,  9],\n",
              "        [11, 11]]])"
            ]
          },
          "metadata": {},
          "execution_count": 7
        }
      ]
    },
    {
      "cell_type": "markdown",
      "source": [
        "**Advanced Indexing tricks**"
      ],
      "metadata": {
        "id": "VsprB2z_qwi_"
      }
    },
    {
      "cell_type": "code",
      "source": [
        "#searching max value of a series\n"
      ],
      "metadata": {
        "id": "7LEJGzddq1Lk"
      },
      "execution_count": null,
      "outputs": []
    },
    {
      "cell_type": "markdown",
      "source": [
        "**Importing and exporting a CSV**"
      ],
      "metadata": {
        "id": "h0wqGgLMkAPy"
      }
    },
    {
      "cell_type": "markdown",
      "source": [
        "< We will cover in Pandas>"
      ],
      "metadata": {
        "id": "NycVjYDSkFTr"
      }
    },
    {
      "cell_type": "markdown",
      "source": [
        "**Plotting Arrays with MatplotLib**"
      ],
      "metadata": {
        "id": "Q-yQ9cYukil3"
      }
    },
    {
      "cell_type": "code",
      "source": [
        "#< We will cover in MatplotLib>"
      ],
      "metadata": {
        "id": "ssBgH5dQkpGQ",
        "colab": {
          "base_uri": "https://localhost:8080/",
          "height": 106
        },
        "outputId": "2ec3d421-b17d-4891-8e7d-c29a7e63d7e8"
      },
      "execution_count": null,
      "outputs": [
        {
          "output_type": "error",
          "ename": "SyntaxError",
          "evalue": "invalid syntax (<ipython-input-1-f145e37599f8>, line 1)",
          "traceback": [
            "\u001b[0;36m  File \u001b[0;32m\"<ipython-input-1-f145e37599f8>\"\u001b[0;36m, line \u001b[0;32m1\u001b[0m\n\u001b[0;31m    < We will cover in MatplotLib>\u001b[0m\n\u001b[0m    ^\u001b[0m\n\u001b[0;31mSyntaxError\u001b[0m\u001b[0;31m:\u001b[0m invalid syntax\n"
          ]
        }
      ]
    },
    {
      "cell_type": "markdown",
      "source": [
        "**2D array create Functions**"
      ],
      "metadata": {
        "id": "0RI9qshYmxVc"
      }
    },
    {
      "cell_type": "code",
      "source": [
        "#1. np.eye()\n",
        "# when i = j ( row and column index are equal) prints 1 else 0.\n",
        "import numpy as np\n",
        "print(np.eye(3))\n",
        "print(np.eye(3, 5))\n",
        "\n",
        "#2. np.diag()\n",
        "# passing values in the diagonals of the array\n",
        "print(np.diag([1,2,3]))\n",
        "a= np.array([[1,2],[3,4]])\n",
        "print(np.diag(a)) #prints the diagonal elements of a\n",
        "#diagonal with offset value\n",
        "print(np.diag([1,2,3]))\n",
        "print(np.diag([1, 2, 3], 1)) #here 1 is offset, so it prints one diagonal above the main diagonal\n",
        "\n",
        "#3.np.vander()-> Vandermore Matrix\n",
        "\n",
        "np.vander(np.linspace(0, 2, 5), 2)\n",
        "#for the input array, 2 columns will be created\n",
        "#column1-> power of 1\n",
        "#column2-> 1( anything power 0 = 1)\n",
        "np.vander([1, 2, 3, 4], 2)\n",
        "#for input array, 4 columns will be created\n",
        "#column1->power of 3;\n",
        "#column2->power of 2\n",
        "#column1->power of 1\n",
        "#column1->power of 0( always 1)\n",
        "np.vander((1, 2, 3, 4), 4)"
      ],
      "metadata": {
        "colab": {
          "base_uri": "https://localhost:8080/"
        },
        "id": "LxG32RXum4Wt",
        "outputId": "e020e314-a35b-4f0b-b804-d59f9cfc8c87"
      },
      "execution_count": null,
      "outputs": [
        {
          "output_type": "stream",
          "name": "stdout",
          "text": [
            "[[1. 0. 0.]\n",
            " [0. 1. 0.]\n",
            " [0. 0. 1.]]\n",
            "[[1. 0. 0. 0. 0.]\n",
            " [0. 1. 0. 0. 0.]\n",
            " [0. 0. 1. 0. 0.]]\n",
            "[[1 0 0]\n",
            " [0 2 0]\n",
            " [0 0 3]]\n",
            "[1 4]\n",
            "[[1 0 0]\n",
            " [0 2 0]\n",
            " [0 0 3]]\n",
            "[[0 1 0 0]\n",
            " [0 0 2 0]\n",
            " [0 0 0 3]\n",
            " [0 0 0 0]]\n"
          ]
        }
      ]
    }
  ]
}